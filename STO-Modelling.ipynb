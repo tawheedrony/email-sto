{
 "cells": [
  {
   "cell_type": "markdown",
   "id": "e4793adf",
   "metadata": {},
   "source": [
    "### Importing Libraries"
   ]
  },
  {
   "cell_type": "code",
   "execution_count": 60,
   "id": "ee774dc8",
   "metadata": {},
   "outputs": [],
   "source": [
    "import sagemaker\n",
    "import os \n",
    "import pandas as pd\n",
    "import numpy as np\n",
    "import seaborn as sns\n",
    "import matplotlib.pyplot as plt\n",
    "%matplotlib inline\n",
    "\n",
    "import warnings\n",
    "warnings.filterwarnings('ignore')"
   ]
  },
  {
   "cell_type": "code",
   "execution_count": 38,
   "id": "11ee8cd6",
   "metadata": {},
   "outputs": [
    {
     "name": "stdout",
     "output_type": "stream",
     "text": [
      "wrangler imported\n"
     ]
    }
   ],
   "source": [
    "try :\n",
    "    import awswrangler as wr\n",
    "    print('wrangler imported')\n",
    "except :\n",
    "    print('wrangler installing..')\n",
    "    !pip install awswrangler --quiet\n",
    "    import awswrangler as wr\n",
    "    print('wrangler imported')"
   ]
  },
  {
   "cell_type": "markdown",
   "id": "791d12b4",
   "metadata": {},
   "source": [
    "After preprocessing the data in Athena, the queried data is stored back in S3 in parquet format. \n",
    "\n",
    "SQL Query :\n",
    "<pre><code>\n",
    "UNLOAD (\n",
    "SELECT \n",
    "    email_id,\n",
    "    email as email_address,\n",
    "    -- date_format(event_time, '%Y-%m-%d') as event_date,\n",
    "    HOUR(event_time) as event_hour,\n",
    "    CASE\n",
    "        WHEN tb_email_events.type IN (1,13) then 'Click'\n",
    "        WHEN tb_email_events.type IN (3,14) then 'Send'\n",
    "        ELSE 'Others'\n",
    "    END AS event_type,\n",
    "    COUNT(*) as email_count\n",
    "FROM tb_email_events\n",
    "WHERE date_format(event_time, '%Y-%m-%d') >= '2022-10-01'\n",
    "AND date_format(event_time, '%Y-%m-%d') <= '2023-03-31'\n",
    "AND type IN (1,3,13,14)\n",
    "GROUP BY 1,2,3,4\n",
    ") TO 's3://emailstoproject/athena_query_results/20221001-20230331/' WITH (format = 'PARQUET')\n",
    "\n",
    "</code></pre>\n",
    "\n",
    "The stored data is retrieved in sagemaker instance as a dataframe for modelling."
   ]
  },
  {
   "cell_type": "markdown",
   "id": "71f474af",
   "metadata": {},
   "source": [
    "If required to re-run the analysis for other timeframe, it can be done within 10-15 minutes"
   ]
  },
  {
   "cell_type": "markdown",
   "id": "bb6d8b9d",
   "metadata": {},
   "source": [
    "### Importing Dataset"
   ]
  },
  {
   "cell_type": "code",
   "execution_count": 46,
   "id": "b66a9f48",
   "metadata": {},
   "outputs": [
    {
     "name": "stdout",
     "output_type": "stream",
     "text": [
      "Email Send & Click Event from Oct 01 2022 to Mar 31 2023\n",
      "Total Number of Rows : 13994699\n",
      "Total Number of Distinct Emails : 1326920\n"
     ]
    }
   ],
   "source": [
    "# directories \n",
    "\n",
    "bucket_name = 'emailstoproject'\n",
    "base_dir = 's3://emailstoproject/'\n",
    "output_dir = 's3://emailstoproject/sto_email_output/'\n",
    "\n",
    "# data path\n",
    "path = 's3://emailstoproject/athena_query_results/20221001-20230331/'\n",
    "\n",
    "# read parquet file using S3 wrangler\n",
    "df = wr.s3.read_parquet(path, dataset=True)\n",
    "\n",
    "# print data overview\n",
    "print(\"Email Send & Click Event from Oct 01 2022 to Mar 31 2023\")\n",
    "print(\"Total Number of Rows : {}\".format(len(df)))\n",
    "print(\"Total Number of Distinct Emails : {}\".format(df.email_id.nunique()))"
   ]
  },
  {
   "cell_type": "markdown",
   "id": "826cdae2",
   "metadata": {},
   "source": [
    "### Preprocessing & EDA"
   ]
  },
  {
   "cell_type": "code",
   "execution_count": 47,
   "id": "c30b96a8",
   "metadata": {},
   "outputs": [],
   "source": [
    "# using dictionary to convert specific column datatypes\n",
    "convert_dict = {'email_id': int,\n",
    "                'email_address': str,\n",
    "                'event_hour' : int,\n",
    "                'event_type' : str,\n",
    "                'email_count' : int\n",
    "                }\n",
    "df = df.astype(convert_dict)\n",
    "\n",
    "# filtering send and click stats into seperate dataframe\n",
    "df_send = df[df.event_type == 'Send']\n",
    "df_click = df[df.event_type == 'Click']"
   ]
  },
  {
   "cell_type": "code",
   "execution_count": 53,
   "id": "7c78365f",
   "metadata": {},
   "outputs": [
    {
     "data": {
      "text/html": [
       "<div>\n",
       "<style scoped>\n",
       "    .dataframe tbody tr th:only-of-type {\n",
       "        vertical-align: middle;\n",
       "    }\n",
       "\n",
       "    .dataframe tbody tr th {\n",
       "        vertical-align: top;\n",
       "    }\n",
       "\n",
       "    .dataframe thead th {\n",
       "        text-align: right;\n",
       "    }\n",
       "</style>\n",
       "<table border=\"1\" class=\"dataframe\">\n",
       "  <thead>\n",
       "    <tr style=\"text-align: right;\">\n",
       "      <th></th>\n",
       "      <th>email_id</th>\n",
       "      <th>email_address</th>\n",
       "      <th>event_hour</th>\n",
       "      <th>event_type</th>\n",
       "      <th>email_count</th>\n",
       "    </tr>\n",
       "  </thead>\n",
       "  <tbody>\n",
       "    <tr>\n",
       "      <th>140902</th>\n",
       "      <td>24497</td>\n",
       "      <td>taknight123@gmail.com</td>\n",
       "      <td>21</td>\n",
       "      <td>Send</td>\n",
       "      <td>2</td>\n",
       "    </tr>\n",
       "  </tbody>\n",
       "</table>\n",
       "</div>"
      ],
      "text/plain": [
       "        email_id          email_address  event_hour event_type  email_count\n",
       "140902     24497  taknight123@gmail.com          21       Send            2"
      ]
     },
     "execution_count": 53,
     "metadata": {},
     "output_type": "execute_result"
    }
   ],
   "source": [
    "df_send.sample(1, random_state=10)"
   ]
  },
  {
   "cell_type": "code",
   "execution_count": 54,
   "id": "884ea2e9",
   "metadata": {},
   "outputs": [
    {
     "data": {
      "text/html": [
       "<div>\n",
       "<style scoped>\n",
       "    .dataframe tbody tr th:only-of-type {\n",
       "        vertical-align: middle;\n",
       "    }\n",
       "\n",
       "    .dataframe tbody tr th {\n",
       "        vertical-align: top;\n",
       "    }\n",
       "\n",
       "    .dataframe thead th {\n",
       "        text-align: right;\n",
       "    }\n",
       "</style>\n",
       "<table border=\"1\" class=\"dataframe\">\n",
       "  <thead>\n",
       "    <tr style=\"text-align: right;\">\n",
       "      <th></th>\n",
       "      <th>email_id</th>\n",
       "      <th>email_address</th>\n",
       "      <th>event_hour</th>\n",
       "      <th>event_type</th>\n",
       "      <th>email_count</th>\n",
       "    </tr>\n",
       "  </thead>\n",
       "  <tbody>\n",
       "    <tr>\n",
       "      <th>254393</th>\n",
       "      <td>2087794</td>\n",
       "      <td>81nam@fuse.net</td>\n",
       "      <td>14</td>\n",
       "      <td>Click</td>\n",
       "      <td>3</td>\n",
       "    </tr>\n",
       "  </tbody>\n",
       "</table>\n",
       "</div>"
      ],
      "text/plain": [
       "        email_id   email_address  event_hour event_type  email_count\n",
       "254393   2087794  81nam@fuse.net          14      Click            3"
      ]
     },
     "execution_count": 54,
     "metadata": {},
     "output_type": "execute_result"
    }
   ],
   "source": [
    "df_click.sample(1, random_state=10)"
   ]
  },
  {
   "cell_type": "code",
   "execution_count": 64,
   "id": "bbd26d1a",
   "metadata": {},
   "outputs": [
    {
     "data": {
      "image/png": "[encoded data removed]",
      "text/plain": [
       "<Figure size 640x480 with 1 Axes>"
      ]
     },
     "metadata": {},
     "output_type": "display_data"
    }
   ],
   "source": [
    "send_agg_stat = pd.DataFrame(df_send.groupby(by='event_hour').sum()['email_count']).reset_index()\n",
    "\n",
    "ax = sns.barplot(x = 'event_hour',y = 'email_count',data = send_agg_stat, \n",
    "                 errwidth=0, orient='v', color='b')\n",
    "\n",
    "ax.set_title('Distribution of Sends Per Hour')\n",
    "ax.set_xlabel('Hour')\n",
    "ax.set_ylabel('Email Count')\n",
    "plt.show()"
   ]
  },
  {
   "cell_type": "code",
   "execution_count": 65,
   "id": "11c7f798",
   "metadata": {},
   "outputs": [
    {
     "data": {
      "image/png": "[encoded data removed]",
      "text/plain": [
       "<Figure size 640x480 with 1 Axes>"
      ]
     },
     "metadata": {},
     "output_type": "display_data"
    }
   ],
   "source": [
    "click_agg_stat = pd.DataFrame(df_click.groupby(by='event_hour').sum()['email_count']).reset_index()\n",
    "\n",
    "ax = sns.barplot(x = 'event_hour',y = 'email_count',data = click_agg_stat, \n",
    "                 errwidth=0, orient='v', color='g')\n",
    "\n",
    "ax.set_title('Distribution of Clicks Per Hour')\n",
    "ax.set_xlabel('Hour')\n",
    "ax.set_ylabel('Email Count')\n",
    "plt.show()"
   ]
  },
  {
   "cell_type": "markdown",
   "id": "cfe0b6c9",
   "metadata": {},
   "source": [
    "### Modelling Our Email Send Time Optimisation"
   ]
  },
  {
   "cell_type": "markdown",
   "id": "dc05410a",
   "metadata": {},
   "source": [
    "#### Background : \n",
    "\n",
    "Ultimate deliverable will be to generate results for STO of each email_id by their time bucket ranked according to CTR ( Click / Sent * 100) and open rate ( Open / Sent * 100 ) \n",
    "\n",
    "#### Output Format : \n",
    "\n",
    "![Output Format](output.png)\n",
    "\n",
    "To explain, User A has the best click rate at 15 th hour of the day. "
   ]
  },
  {
   "cell_type": "markdown",
   "id": "91e6ff53",
   "metadata": {},
   "source": [
    "**Click Per Bucket Dataframe**\n",
    "\n",
    "Objective is to create a pivot table from click stats, taking unique *email_id* as row and *event_hour* as the pivot/columns. The measure of our pivot table will be *email_count* which we'll aggregate(sum) for the respective row and pivot."
   ]
  },
  {
   "cell_type": "code",
   "execution_count": 78,
   "id": "deffe3ba",
   "metadata": {},
   "outputs": [],
   "source": [
    "# click per bucket pivot table \n",
    "\n",
    "df_cpb = pd.pivot_table(df_click, values='email_count', index='email_id', \n",
    "                            columns='event_hour', aggfunc=np.sum, \n",
    "                            margins=True, margins_name='Total')\n",
    "\n",
    "df_cpb = df_cpb.fillna(0)                            # remove NaNs with 0\n",
    "df_cpb = df_cpb.astype(int).reset_index()             # pivot table to dataframe\n",
    "\n",
    "# sorting stats by most sends\n",
    "df_cpb = df_cpb.iloc[:-1 , :].sort_values(by='Total', ascending=False)"
   ]
  },
  {
   "cell_type": "code",
   "execution_count": 80,
   "id": "ced469f5",
   "metadata": {
    "scrolled": true
   },
   "outputs": [
    {
     "data": {
      "text/html": [
       "<div>\n",
       "<style scoped>\n",
       "    .dataframe tbody tr th:only-of-type {\n",
       "        vertical-align: middle;\n",
       "    }\n",
       "\n",
       "    .dataframe tbody tr th {\n",
       "        vertical-align: top;\n",
       "    }\n",
       "\n",
       "    .dataframe thead th {\n",
       "        text-align: right;\n",
       "    }\n",
       "</style>\n",
       "<table border=\"1\" class=\"dataframe\">\n",
       "  <thead>\n",
       "    <tr style=\"text-align: right;\">\n",
       "      <th>event_hour</th>\n",
       "      <th>email_id</th>\n",
       "      <th>0</th>\n",
       "      <th>1</th>\n",
       "      <th>2</th>\n",
       "      <th>3</th>\n",
       "      <th>4</th>\n",
       "      <th>5</th>\n",
       "      <th>6</th>\n",
       "      <th>7</th>\n",
       "      <th>8</th>\n",
       "      <th>...</th>\n",
       "      <th>15</th>\n",
       "      <th>16</th>\n",
       "      <th>17</th>\n",
       "      <th>18</th>\n",
       "      <th>19</th>\n",
       "      <th>20</th>\n",
       "      <th>21</th>\n",
       "      <th>22</th>\n",
       "      <th>23</th>\n",
       "      <th>Total</th>\n",
       "    </tr>\n",
       "  </thead>\n",
       "  <tbody>\n",
       "    <tr>\n",
       "      <th>74735</th>\n",
       "      <td>2262304</td>\n",
       "      <td>0</td>\n",
       "      <td>0</td>\n",
       "      <td>0</td>\n",
       "      <td>0</td>\n",
       "      <td>0</td>\n",
       "      <td>0</td>\n",
       "      <td>1</td>\n",
       "      <td>5</td>\n",
       "      <td>1</td>\n",
       "      <td>...</td>\n",
       "      <td>0</td>\n",
       "      <td>1</td>\n",
       "      <td>0</td>\n",
       "      <td>0</td>\n",
       "      <td>0</td>\n",
       "      <td>0</td>\n",
       "      <td>0</td>\n",
       "      <td>0</td>\n",
       "      <td>0</td>\n",
       "      <td>8</td>\n",
       "    </tr>\n",
       "  </tbody>\n",
       "</table>\n",
       "<p>1 rows × 26 columns</p>\n",
       "</div>"
      ],
      "text/plain": [
       "event_hour email_id  0  1  2  3  4  5  6  7  8  ...  15  16  17  18  19  20  \\\n",
       "74735       2262304  0  0  0  0  0  0  1  5  1  ...   0   1   0   0   0   0   \n",
       "\n",
       "event_hour  21  22  23  Total  \n",
       "74735        0   0   0      8  \n",
       "\n",
       "[1 rows x 26 columns]"
      ]
     },
     "execution_count": 80,
     "metadata": {},
     "output_type": "execute_result"
    }
   ],
   "source": [
    "df_cpb.sample(1, random_state=10)"
   ]
  },
  {
   "cell_type": "markdown",
   "id": "a49fe614",
   "metadata": {},
   "source": [
    "**Send Per Bucket DataFrame**"
   ]
  },
  {
   "cell_type": "markdown",
   "id": "490ca345",
   "metadata": {},
   "source": [
    "Objective is alike of click per bucket dataframe"
   ]
  },
  {
   "cell_type": "code",
   "execution_count": 81,
   "id": "ea69b760",
   "metadata": {},
   "outputs": [],
   "source": [
    "# Sends per bucket pivot table \n",
    "\n",
    "df_spb = pd.pivot_table(df_send, values='email_count', index='email_id', \n",
    "                            columns='event_hour', aggfunc=np.sum, \n",
    "                            margins=True, margins_name='Total')\n",
    "\n",
    "df_spb = df_spb.fillna(0)\n",
    "df_spb = df_spb.astype(int).reset_index()\n",
    "\n",
    "#sorting\n",
    "df_spb = df_spb.iloc[:-1 , :].sort_values(by='Total', ascending=False)"
   ]
  },
  {
   "cell_type": "code",
   "execution_count": 82,
   "id": "644a5249",
   "metadata": {
    "scrolled": true
   },
   "outputs": [
    {
     "data": {
      "text/html": [
       "<div>\n",
       "<style scoped>\n",
       "    .dataframe tbody tr th:only-of-type {\n",
       "        vertical-align: middle;\n",
       "    }\n",
       "\n",
       "    .dataframe tbody tr th {\n",
       "        vertical-align: top;\n",
       "    }\n",
       "\n",
       "    .dataframe thead th {\n",
       "        text-align: right;\n",
       "    }\n",
       "</style>\n",
       "<table border=\"1\" class=\"dataframe\">\n",
       "  <thead>\n",
       "    <tr style=\"text-align: right;\">\n",
       "      <th>event_hour</th>\n",
       "      <th>email_id</th>\n",
       "      <th>0</th>\n",
       "      <th>1</th>\n",
       "      <th>2</th>\n",
       "      <th>3</th>\n",
       "      <th>4</th>\n",
       "      <th>5</th>\n",
       "      <th>6</th>\n",
       "      <th>7</th>\n",
       "      <th>8</th>\n",
       "      <th>...</th>\n",
       "      <th>15</th>\n",
       "      <th>16</th>\n",
       "      <th>17</th>\n",
       "      <th>18</th>\n",
       "      <th>19</th>\n",
       "      <th>20</th>\n",
       "      <th>21</th>\n",
       "      <th>22</th>\n",
       "      <th>23</th>\n",
       "      <th>Total</th>\n",
       "    </tr>\n",
       "  </thead>\n",
       "  <tbody>\n",
       "    <tr>\n",
       "      <th>717830</th>\n",
       "      <td>1045633</td>\n",
       "      <td>3</td>\n",
       "      <td>7</td>\n",
       "      <td>4</td>\n",
       "      <td>7</td>\n",
       "      <td>19</td>\n",
       "      <td>7</td>\n",
       "      <td>8</td>\n",
       "      <td>8</td>\n",
       "      <td>6</td>\n",
       "      <td>...</td>\n",
       "      <td>5</td>\n",
       "      <td>6</td>\n",
       "      <td>5</td>\n",
       "      <td>9</td>\n",
       "      <td>4</td>\n",
       "      <td>6</td>\n",
       "      <td>22</td>\n",
       "      <td>5</td>\n",
       "      <td>4</td>\n",
       "      <td>190</td>\n",
       "    </tr>\n",
       "  </tbody>\n",
       "</table>\n",
       "<p>1 rows × 26 columns</p>\n",
       "</div>"
      ],
      "text/plain": [
       "event_hour email_id  0  1  2  3   4  5  6  7  8  ...  15  16  17  18  19  20  \\\n",
       "717830      1045633  3  7  4  7  19  7  8  8  6  ...   5   6   5   9   4   6   \n",
       "\n",
       "event_hour  21  22  23  Total  \n",
       "717830      22   5   4    190  \n",
       "\n",
       "[1 rows x 26 columns]"
      ]
     },
     "execution_count": 82,
     "metadata": {},
     "output_type": "execute_result"
    }
   ],
   "source": [
    "df_spb.sample(1, random_state=10)"
   ]
  },
  {
   "cell_type": "markdown",
   "id": "6785dfbd",
   "metadata": {},
   "source": [
    "**Calculating CTR per Bucket**"
   ]
  },
  {
   "cell_type": "markdown",
   "id": "6d3b98de",
   "metadata": {},
   "source": [
    "We formulate the CTR based on the total email sent vs clicked . We do so by dividing click by send across each bucket and calculating percentage.\n"
   ]
  },
  {
   "cell_type": "code",
   "execution_count": 84,
   "id": "6624eb33",
   "metadata": {},
   "outputs": [],
   "source": [
    "# format to percentage custom function\n",
    "\n",
    "def format_pct(x):\n",
    "    return '{:.2%}'.format(x) "
   ]
  },
  {
   "cell_type": "code",
   "execution_count": 86,
   "id": "e064480a",
   "metadata": {},
   "outputs": [],
   "source": [
    "# merge click per hour stats with send per hour \n",
    "ctr = pd.merge(df_cpb,df_spb[['email_id','Total']], how='inner', on='email_id')\n",
    "\n",
    "\n",
    "ctr = ctr.rename(columns={'Total_x':'total_click', 'Total_y':'total_send'})\n",
    "ctr.iloc[:,1:-1]= ctr.iloc[:,1:-1].div(ctr.total_send, axis=0).apply(lambda x:x)"
   ]
  },
  {
   "cell_type": "code",
   "execution_count": 88,
   "id": "e0556b47",
   "metadata": {},
   "outputs": [],
   "source": [
    "# function to sort a row and get the list of all columns in the ranked order\n",
    "\n",
    "def get_sorted_cols(row):\n",
    "    sorted_row = row.sort_values(ascending=False)\n",
    "    sorted_row = sorted_row.astype(int)\n",
    "    sorted_cols = sorted_row.index.tolist()\n",
    "    return sorted_cols"
   ]
  },
  {
   "cell_type": "code",
   "execution_count": 89,
   "id": "397ef3f1",
   "metadata": {},
   "outputs": [],
   "source": [
    "# delete previous columns\n",
    "\n",
    "cols_to_drop = []\n",
    "for i in range(24):\n",
    "    cols_to_drop.append(i)"
   ]
  },
  {
   "cell_type": "code",
   "execution_count": 92,
   "id": "4d286b8c",
   "metadata": {},
   "outputs": [
    {
     "name": "stdout",
     "output_type": "stream",
     "text": [
      "Modelling Complete\n"
     ]
    }
   ],
   "source": [
    "ctr_output = ctr.copy()\n",
    "\n",
    "# get the list of ranks in a column\n",
    "ctr_output['data'] = ctr_output.iloc[:, 1:-2].apply(lambda x: get_sorted_cols(x), axis=1)\n",
    "\n",
    "# drop previous columns\n",
    "ctr_output = ctr_output.drop(columns=cols_to_drop)\n",
    "\n",
    "# spread the list of ranks across the dataframe\n",
    "ctr_output = pd.concat([ctr_output.drop(['data'], axis=1), ctr_output['data'].apply(pd.Series)], axis=1)\n",
    "ctr_output['total_click'] = ctr_output['total_click'].apply(format_pct)\n",
    "ctr_output = ctr_output.rename(columns= {'total_click' : 'click_perc'})\n",
    "\n",
    "#rename the columns\n",
    "ctr_output.columns = ['Top ' + str(int(c) + 1) if str(c).isdigit() else c for c in ctr_output.columns]\n",
    "\n",
    "# create an email map from click events data\n",
    "email_map = df_click[['email_id', 'email_address']].drop_duplicates()\n",
    "email_map = email_map[email_map.email_id != 0]\n",
    "\n",
    "# map the email_id with email_address\n",
    "ctr_output['email_address'] = ctr_output['email_id'].map(email_map.set_index('email_id')['email_address'])\n",
    "\n",
    "# output saved\n",
    "output_brief = ctr_output[['email_address','email_id','total_send', 'click_perc']]\n",
    "\n",
    "sto_output = ctr_output[['email_address', 'Top 1', 'Top 2', 'Top 3',\n",
    "       'Top 4', 'Top 5', 'Top 6', 'Top 7', 'Top 8', 'Top 9', 'Top 10',\n",
    "       'Top 11', 'Top 12', 'Top 13', 'Top 14', 'Top 15', 'Top 16', 'Top 17',\n",
    "       'Top 18', 'Top 19', 'Top 20', 'Top 21', 'Top 22', 'Top 23', 'Top 24']]\n",
    "\n",
    "\n",
    "print(\"Modelling Complete\")"
   ]
  },
  {
   "cell_type": "markdown",
   "id": "6413842c",
   "metadata": {},
   "source": [
    "### Visualizing the Outputs"
   ]
  },
  {
   "cell_type": "code",
   "execution_count": 93,
   "id": "ca56771a",
   "metadata": {
    "scrolled": true
   },
   "outputs": [
    {
     "data": {
      "text/html": [
       "<div>\n",
       "<style scoped>\n",
       "    .dataframe tbody tr th:only-of-type {\n",
       "        vertical-align: middle;\n",
       "    }\n",
       "\n",
       "    .dataframe tbody tr th {\n",
       "        vertical-align: top;\n",
       "    }\n",
       "\n",
       "    .dataframe thead th {\n",
       "        text-align: right;\n",
       "    }\n",
       "</style>\n",
       "<table border=\"1\" class=\"dataframe\">\n",
       "  <thead>\n",
       "    <tr style=\"text-align: right;\">\n",
       "      <th></th>\n",
       "      <th>email_address</th>\n",
       "      <th>Top 1</th>\n",
       "      <th>Top 2</th>\n",
       "      <th>Top 3</th>\n",
       "      <th>Top 4</th>\n",
       "      <th>Top 5</th>\n",
       "      <th>Top 6</th>\n",
       "      <th>Top 7</th>\n",
       "      <th>Top 8</th>\n",
       "      <th>Top 9</th>\n",
       "      <th>...</th>\n",
       "      <th>Top 15</th>\n",
       "      <th>Top 16</th>\n",
       "      <th>Top 17</th>\n",
       "      <th>Top 18</th>\n",
       "      <th>Top 19</th>\n",
       "      <th>Top 20</th>\n",
       "      <th>Top 21</th>\n",
       "      <th>Top 22</th>\n",
       "      <th>Top 23</th>\n",
       "      <th>Top 24</th>\n",
       "    </tr>\n",
       "  </thead>\n",
       "  <tbody>\n",
       "    <tr>\n",
       "      <th>91430</th>\n",
       "      <td>bobnruth@bellsouth.net</td>\n",
       "      <td>4</td>\n",
       "      <td>0</td>\n",
       "      <td>13</td>\n",
       "      <td>22</td>\n",
       "      <td>21</td>\n",
       "      <td>20</td>\n",
       "      <td>19</td>\n",
       "      <td>18</td>\n",
       "      <td>17</td>\n",
       "      <td>...</td>\n",
       "      <td>11</td>\n",
       "      <td>10</td>\n",
       "      <td>9</td>\n",
       "      <td>8</td>\n",
       "      <td>7</td>\n",
       "      <td>6</td>\n",
       "      <td>5</td>\n",
       "      <td>3</td>\n",
       "      <td>2</td>\n",
       "      <td>23</td>\n",
       "    </tr>\n",
       "    <tr>\n",
       "      <th>88492</th>\n",
       "      <td>terrybenson@cox.net</td>\n",
       "      <td>15</td>\n",
       "      <td>0</td>\n",
       "      <td>1</td>\n",
       "      <td>22</td>\n",
       "      <td>21</td>\n",
       "      <td>20</td>\n",
       "      <td>19</td>\n",
       "      <td>18</td>\n",
       "      <td>17</td>\n",
       "      <td>...</td>\n",
       "      <td>10</td>\n",
       "      <td>9</td>\n",
       "      <td>8</td>\n",
       "      <td>7</td>\n",
       "      <td>6</td>\n",
       "      <td>5</td>\n",
       "      <td>4</td>\n",
       "      <td>3</td>\n",
       "      <td>2</td>\n",
       "      <td>23</td>\n",
       "    </tr>\n",
       "  </tbody>\n",
       "</table>\n",
       "<p>2 rows × 25 columns</p>\n",
       "</div>"
      ],
      "text/plain": [
       "                email_address  Top 1  Top 2  Top 3  Top 4  Top 5  Top 6  \\\n",
       "91430  bobnruth@bellsouth.net      4      0     13     22     21     20   \n",
       "88492     terrybenson@cox.net     15      0      1     22     21     20   \n",
       "\n",
       "       Top 7  Top 8  Top 9  ...  Top 15  Top 16  Top 17  Top 18  Top 19  \\\n",
       "91430     19     18     17  ...      11      10       9       8       7   \n",
       "88492     19     18     17  ...      10       9       8       7       6   \n",
       "\n",
       "       Top 20  Top 21  Top 22  Top 23  Top 24  \n",
       "91430       6       5       3       2      23  \n",
       "88492       5       4       3       2      23  \n",
       "\n",
       "[2 rows x 25 columns]"
      ]
     },
     "execution_count": 93,
     "metadata": {},
     "output_type": "execute_result"
    }
   ],
   "source": [
    "sto_output.sample(2, random_state=10)"
   ]
  },
  {
   "cell_type": "markdown",
   "id": "b50bb791",
   "metadata": {},
   "source": [
    "### Verification"
   ]
  },
  {
   "cell_type": "code",
   "execution_count": 94,
   "id": "5bbb62b9",
   "metadata": {},
   "outputs": [],
   "source": [
    "pd.set_option('display.max_columns', None)"
   ]
  },
  {
   "cell_type": "code",
   "execution_count": 98,
   "id": "80160233",
   "metadata": {},
   "outputs": [
    {
     "name": "stdout",
     "output_type": "stream",
     "text": [
      "Email Send To Subscriber Per Bucket\n"
     ]
    },
    {
     "data": {
      "text/html": [
       "<div>\n",
       "<style scoped>\n",
       "    .dataframe tbody tr th:only-of-type {\n",
       "        vertical-align: middle;\n",
       "    }\n",
       "\n",
       "    .dataframe tbody tr th {\n",
       "        vertical-align: top;\n",
       "    }\n",
       "\n",
       "    .dataframe thead th {\n",
       "        text-align: right;\n",
       "    }\n",
       "</style>\n",
       "<table border=\"1\" class=\"dataframe\">\n",
       "  <thead>\n",
       "    <tr style=\"text-align: right;\">\n",
       "      <th>event_hour</th>\n",
       "      <th>email_id</th>\n",
       "      <th>0</th>\n",
       "      <th>1</th>\n",
       "      <th>2</th>\n",
       "      <th>3</th>\n",
       "      <th>4</th>\n",
       "      <th>5</th>\n",
       "      <th>6</th>\n",
       "      <th>7</th>\n",
       "      <th>8</th>\n",
       "      <th>9</th>\n",
       "      <th>10</th>\n",
       "      <th>11</th>\n",
       "      <th>12</th>\n",
       "      <th>13</th>\n",
       "      <th>14</th>\n",
       "      <th>15</th>\n",
       "      <th>16</th>\n",
       "      <th>17</th>\n",
       "      <th>18</th>\n",
       "      <th>19</th>\n",
       "      <th>20</th>\n",
       "      <th>21</th>\n",
       "      <th>22</th>\n",
       "      <th>23</th>\n",
       "      <th>Total</th>\n",
       "    </tr>\n",
       "  </thead>\n",
       "  <tbody>\n",
       "    <tr>\n",
       "      <th>1202808</th>\n",
       "      <td>2318667</td>\n",
       "      <td>53</td>\n",
       "      <td>72</td>\n",
       "      <td>57</td>\n",
       "      <td>31</td>\n",
       "      <td>53</td>\n",
       "      <td>24</td>\n",
       "      <td>24</td>\n",
       "      <td>47</td>\n",
       "      <td>35</td>\n",
       "      <td>41</td>\n",
       "      <td>29</td>\n",
       "      <td>34</td>\n",
       "      <td>59</td>\n",
       "      <td>45</td>\n",
       "      <td>44</td>\n",
       "      <td>56</td>\n",
       "      <td>71</td>\n",
       "      <td>61</td>\n",
       "      <td>72</td>\n",
       "      <td>75</td>\n",
       "      <td>78</td>\n",
       "      <td>57</td>\n",
       "      <td>64</td>\n",
       "      <td>42</td>\n",
       "      <td>1224</td>\n",
       "    </tr>\n",
       "  </tbody>\n",
       "</table>\n",
       "</div>"
      ],
      "text/plain": [
       "event_hour email_id   0   1   2   3   4   5   6   7   8   9  10  11  12  13  \\\n",
       "1202808     2318667  53  72  57  31  53  24  24  47  35  41  29  34  59  45   \n",
       "\n",
       "event_hour  14  15  16  17  18  19  20  21  22  23  Total  \n",
       "1202808     44  56  71  61  72  75  78  57  64  42   1224  "
      ]
     },
     "execution_count": 98,
     "metadata": {},
     "output_type": "execute_result"
    }
   ],
   "source": [
    "# email_id : 2318667\n",
    "# email_address : 'kay@cfu.net'\n",
    "\n",
    "print(\"Email Send To This Subscriber Per Bucket\")\n",
    "df_spb[df_spb.email_id == 2318667]"
   ]
  },
  {
   "cell_type": "code",
   "execution_count": 99,
   "id": "76f7c1b5",
   "metadata": {},
   "outputs": [
    {
     "name": "stdout",
     "output_type": "stream",
     "text": [
      "Email Clicked By This Subscriber Per Bucket\n"
     ]
    },
    {
     "data": {
      "text/html": [
       "<div>\n",
       "<style scoped>\n",
       "    .dataframe tbody tr th:only-of-type {\n",
       "        vertical-align: middle;\n",
       "    }\n",
       "\n",
       "    .dataframe tbody tr th {\n",
       "        vertical-align: top;\n",
       "    }\n",
       "\n",
       "    .dataframe thead th {\n",
       "        text-align: right;\n",
       "    }\n",
       "</style>\n",
       "<table border=\"1\" class=\"dataframe\">\n",
       "  <thead>\n",
       "    <tr style=\"text-align: right;\">\n",
       "      <th>event_hour</th>\n",
       "      <th>email_id</th>\n",
       "      <th>0</th>\n",
       "      <th>1</th>\n",
       "      <th>2</th>\n",
       "      <th>3</th>\n",
       "      <th>4</th>\n",
       "      <th>5</th>\n",
       "      <th>6</th>\n",
       "      <th>7</th>\n",
       "      <th>8</th>\n",
       "      <th>9</th>\n",
       "      <th>10</th>\n",
       "      <th>11</th>\n",
       "      <th>12</th>\n",
       "      <th>13</th>\n",
       "      <th>14</th>\n",
       "      <th>15</th>\n",
       "      <th>16</th>\n",
       "      <th>17</th>\n",
       "      <th>18</th>\n",
       "      <th>19</th>\n",
       "      <th>20</th>\n",
       "      <th>21</th>\n",
       "      <th>22</th>\n",
       "      <th>23</th>\n",
       "      <th>Total</th>\n",
       "    </tr>\n",
       "  </thead>\n",
       "  <tbody>\n",
       "    <tr>\n",
       "      <th>95137</th>\n",
       "      <td>2318667</td>\n",
       "      <td>0</td>\n",
       "      <td>1</td>\n",
       "      <td>0</td>\n",
       "      <td>0</td>\n",
       "      <td>0</td>\n",
       "      <td>0</td>\n",
       "      <td>0</td>\n",
       "      <td>0</td>\n",
       "      <td>0</td>\n",
       "      <td>0</td>\n",
       "      <td>0</td>\n",
       "      <td>1</td>\n",
       "      <td>0</td>\n",
       "      <td>9</td>\n",
       "      <td>19</td>\n",
       "      <td>3</td>\n",
       "      <td>6</td>\n",
       "      <td>7</td>\n",
       "      <td>4</td>\n",
       "      <td>1</td>\n",
       "      <td>6</td>\n",
       "      <td>3</td>\n",
       "      <td>3</td>\n",
       "      <td>1</td>\n",
       "      <td>64</td>\n",
       "    </tr>\n",
       "  </tbody>\n",
       "</table>\n",
       "</div>"
      ],
      "text/plain": [
       "event_hour email_id  0  1  2  3  4  5  6  7  8  9  10  11  12  13  14  15  16  \\\n",
       "95137       2318667  0  1  0  0  0  0  0  0  0  0   0   1   0   9  19   3   6   \n",
       "\n",
       "event_hour  17  18  19  20  21  22  23  Total  \n",
       "95137        7   4   1   6   3   3   1     64  "
      ]
     },
     "execution_count": 99,
     "metadata": {},
     "output_type": "execute_result"
    }
   ],
   "source": [
    "print(\"Email Clicked By This Subscriber Per Bucket\")\n",
    "df_cpb[df_cpb.email_id == 2318667]"
   ]
  },
  {
   "cell_type": "code",
   "execution_count": 100,
   "id": "57325e2f",
   "metadata": {},
   "outputs": [
    {
     "name": "stdout",
     "output_type": "stream",
     "text": [
      "STO Optimised Bucket Output\n"
     ]
    },
    {
     "data": {
      "text/html": [
       "<div>\n",
       "<style scoped>\n",
       "    .dataframe tbody tr th:only-of-type {\n",
       "        vertical-align: middle;\n",
       "    }\n",
       "\n",
       "    .dataframe tbody tr th {\n",
       "        vertical-align: top;\n",
       "    }\n",
       "\n",
       "    .dataframe thead th {\n",
       "        text-align: right;\n",
       "    }\n",
       "</style>\n",
       "<table border=\"1\" class=\"dataframe\">\n",
       "  <thead>\n",
       "    <tr style=\"text-align: right;\">\n",
       "      <th></th>\n",
       "      <th>email_address</th>\n",
       "      <th>Top 1</th>\n",
       "      <th>Top 2</th>\n",
       "      <th>Top 3</th>\n",
       "      <th>Top 4</th>\n",
       "      <th>Top 5</th>\n",
       "      <th>Top 6</th>\n",
       "      <th>Top 7</th>\n",
       "      <th>Top 8</th>\n",
       "      <th>Top 9</th>\n",
       "      <th>Top 10</th>\n",
       "      <th>Top 11</th>\n",
       "      <th>Top 12</th>\n",
       "      <th>Top 13</th>\n",
       "      <th>Top 14</th>\n",
       "      <th>Top 15</th>\n",
       "      <th>Top 16</th>\n",
       "      <th>Top 17</th>\n",
       "      <th>Top 18</th>\n",
       "      <th>Top 19</th>\n",
       "      <th>Top 20</th>\n",
       "      <th>Top 21</th>\n",
       "      <th>Top 22</th>\n",
       "      <th>Top 23</th>\n",
       "      <th>Top 24</th>\n",
       "    </tr>\n",
       "  </thead>\n",
       "  <tbody>\n",
       "    <tr>\n",
       "      <th>1827</th>\n",
       "      <td>kay@cfu.net</td>\n",
       "      <td>14</td>\n",
       "      <td>13</td>\n",
       "      <td>17</td>\n",
       "      <td>20</td>\n",
       "      <td>16</td>\n",
       "      <td>18</td>\n",
       "      <td>22</td>\n",
       "      <td>21</td>\n",
       "      <td>15</td>\n",
       "      <td>23</td>\n",
       "      <td>19</td>\n",
       "      <td>11</td>\n",
       "      <td>1</td>\n",
       "      <td>0</td>\n",
       "      <td>10</td>\n",
       "      <td>9</td>\n",
       "      <td>8</td>\n",
       "      <td>7</td>\n",
       "      <td>6</td>\n",
       "      <td>5</td>\n",
       "      <td>4</td>\n",
       "      <td>3</td>\n",
       "      <td>2</td>\n",
       "      <td>12</td>\n",
       "    </tr>\n",
       "  </tbody>\n",
       "</table>\n",
       "</div>"
      ],
      "text/plain": [
       "     email_address  Top 1  Top 2  Top 3  Top 4  Top 5  Top 6  Top 7  Top 8  \\\n",
       "1827   kay@cfu.net     14     13     17     20     16     18     22     21   \n",
       "\n",
       "      Top 9  Top 10  Top 11  Top 12  Top 13  Top 14  Top 15  Top 16  Top 17  \\\n",
       "1827     15      23      19      11       1       0      10       9       8   \n",
       "\n",
       "      Top 18  Top 19  Top 20  Top 21  Top 22  Top 23  Top 24  \n",
       "1827       7       6       5       4       3       2      12  "
      ]
     },
     "execution_count": 100,
     "metadata": {},
     "output_type": "execute_result"
    }
   ],
   "source": [
    "print(\"STO Optimised Bucket Output\")\n",
    "sto_output[sto_output.email_address == 'kay@cfu.net']"
   ]
  },
  {
   "cell_type": "markdown",
   "id": "309e08fe",
   "metadata": {},
   "source": [
    "### Overview of STO Output"
   ]
  },
  {
   "cell_type": "code",
   "execution_count": 102,
   "id": "94fabf9c",
   "metadata": {},
   "outputs": [
    {
     "name": "stdout",
     "output_type": "stream",
     "text": [
      "Total Send Time Optimised Emails  121933\n"
     ]
    }
   ],
   "source": [
    "print(\"Total Send Time Optimised Emails  {}\".format(sto_output.email_address.nunique()))"
   ]
  },
  {
   "cell_type": "code",
   "execution_count": 104,
   "id": "79da8806",
   "metadata": {},
   "outputs": [
    {
     "data": {
      "text/plain": [
       "Text(0.5, 0, 'Hour')"
      ]
     },
     "execution_count": 104,
     "metadata": {},
     "output_type": "execute_result"
    },
    {
     "data": {
      "image/png": "[encoded data removed]",
      "text/plain": [
       "<Figure size 640x480 with 1 Axes>"
      ]
     },
     "metadata": {},
     "output_type": "display_data"
    }
   ],
   "source": [
    "sto_output['Top 1'].hist(bins=24, edgecolor=\"black\", color='violet')\n",
    "plt.title(\"Distribution of 1st Bucket Hours\")\n",
    "plt.ylabel(\"Frequency\")\n",
    "plt.xlabel(\"Hour\")"
   ]
  },
  {
   "cell_type": "markdown",
   "id": "6e867ad7",
   "metadata": {},
   "source": [
    "### Storing in S3"
   ]
  },
  {
   "cell_type": "code",
   "execution_count": 106,
   "id": "ff4339db",
   "metadata": {},
   "outputs": [],
   "source": [
    "sto_output.to_csv('sto-email-buckets.csv', index=False)\n",
    "output_brief.to_csv('sto-modelling-brief.csv', index=False)"
   ]
  },
  {
   "cell_type": "code",
   "execution_count": 111,
   "id": "1768874f",
   "metadata": {},
   "outputs": [],
   "source": [
    "# instantiate S3 client and upload to s3\n",
    "import boto3\n",
    "\n",
    "s3 = boto3.resource('s3')\n",
    "s3.meta.client.upload_file('sto-email-buckets.csv', bucket_name, 'sto_email_output/sto-email-buckets.csv')"
   ]
  },
  {
   "cell_type": "code",
   "execution_count": 112,
   "id": "c407ff3b",
   "metadata": {},
   "outputs": [],
   "source": [
    "s3.meta.client.upload_file('sto-modelling-brief.csv', bucket_name, 'sto_email_output/sto-modelling-brief.csv')"
   ]
  },
  {
   "cell_type": "markdown",
   "id": "ccbb9b77",
   "metadata": {},
   "source": [
    "# The End"
   ]
  }
 ],
 "metadata": {
  "kernelspec": {
   "display_name": "conda_python3",
   "language": "python",
   "name": "conda_python3"
  },
  "language_info": {
   "codemirror_mode": {
    "name": "ipython",
    "version": 3
   },
   "file_extension": ".py",
   "mimetype": "text/x-python",
   "name": "python",
   "nbconvert_exporter": "python",
   "pygments_lexer": "ipython3",
   "version": "3.10.8"
  }
 },
 "nbformat": 4,
 "nbformat_minor": 5
}
